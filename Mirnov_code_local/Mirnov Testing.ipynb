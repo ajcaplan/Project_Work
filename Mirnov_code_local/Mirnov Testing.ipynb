{
 "cells": [
  {
   "cell_type": "markdown",
   "id": "34cb9be6",
   "metadata": {},
   "source": [
    "Import useful/required packages"
   ]
  },
  {
   "cell_type": "code",
   "execution_count": 1,
   "id": "03d385a5",
   "metadata": {},
   "outputs": [],
   "source": [
    "import numpy as np\n",
    "import xarray as xr\n",
    "import matplotlib.pyplot as plt\n",
    "\n",
    "from imports_Mirnov import *\n",
    "from functions_Mirnov import *"
   ]
  },
  {
   "cell_type": "markdown",
   "id": "4e5f4663",
   "metadata": {},
   "source": [
    "Read coil positions from file"
   ]
  },
  {
   "cell_type": "code",
   "execution_count": 2,
   "id": "f04b5e2e",
   "metadata": {},
   "outputs": [],
   "source": [
    "coilpos = np.asarray(xr.open_dataarray('Data/coil_positions.nc'))\n",
    "#coil_nums = [204, 206, 207, 210, 212, 213, 214, 215, 216, 217, 218]"
   ]
  },
  {
   "cell_type": "markdown",
   "id": "38de8ca2",
   "metadata": {},
   "source": [
    "Read Mirnov data from file"
   ]
  },
  {
   "cell_type": "code",
   "execution_count": 3,
   "id": "012977bb",
   "metadata": {},
   "outputs": [],
   "source": [
    "mirnov_data_from_file = xr.open_dataarray('Data/shot29378_mirnov_data.nc')\n",
    "mirnov_time = np.asarray(mirnov_data_from_file.coords['time']) # Shape: (650000,)\n",
    "coil_nums = np.asarray(mirnov_data_from_file.coords['coil'])\n",
    "mirnov_data = np.asarray(mirnov_data_from_file) # Shape: (11,650000)"
   ]
  },
  {
   "cell_type": "markdown",
   "id": "770c8c00",
   "metadata": {},
   "source": [
    "Read equilibria data from file"
   ]
  },
  {
   "cell_type": "code",
   "execution_count": 5,
   "id": "323ebd63",
   "metadata": {},
   "outputs": [],
   "source": [
    "equilib_from_file = xr.open_dataarray('Data/shot29378_equilibria.nc')\n",
    "equilib_time = np.asarray(equilib_from_file.coords['time'])\n",
    "equilib_R = np.asarray(equilib_from_file.coords['R'])\n",
    "equilib_Z = np.asarray(equilib_from_file.coords['Z'])\n",
    "equilib_psi = np.asarray(equilib_from_file) # Contains 135 length-65 arrays [0:134][0:64]"
   ]
  },
  {
   "cell_type": "markdown",
   "id": "34ae85ab",
   "metadata": {},
   "source": [
    "Define interesting timeslices"
   ]
  },
  {
   "cell_type": "code",
   "execution_count": 6,
   "id": "4bd3c05e",
   "metadata": {},
   "outputs": [],
   "source": [
    "regions = [[0.16,0.24], [0.36,0.54], [0.54,0.68]]"
   ]
  },
  {
   "cell_type": "markdown",
   "id": "0cef1f60",
   "metadata": {},
   "source": [
    "Make some plots of coil locations"
   ]
  },
  {
   "cell_type": "code",
   "execution_count": 7,
   "id": "78e1de9e",
   "metadata": {},
   "outputs": [],
   "source": [
    "# Plot coil positions alone\n",
    "#plot_coil_positions(coilpos, coil_nums)\n",
    "# Plot coil positions with flux surfaces\n",
    "#plot_coils_with_equilib(29378, coilpos, equilib_time[50], equilib_R, equilib_Z, equilib_psi[50])"
   ]
  },
  {
   "cell_type": "markdown",
   "id": "772047b1",
   "metadata": {},
   "source": [
    "Make some plots of the raw data"
   ]
  },
  {
   "cell_type": "code",
   "execution_count": 8,
   "id": "d08c7f3a",
   "metadata": {},
   "outputs": [],
   "source": [
    "#for coil in range(len(coil_nums)):\n",
    "#    plot_coil_data(29378, mirnov_time, mirnov_data, coil, timeslice=regions[2])\n",
    "#    plot_coil_fft(29378, mirnov_time, mirnov_data, coil, timeslice=regions[2])"
   ]
  },
  {
   "cell_type": "code",
   "execution_count": 54,
   "id": "f543ceaf",
   "metadata": {},
   "outputs": [],
   "source": [
    "def plot_mirnov_spectrogram(\n",
    "        shot, mirnov_time, mirnov_data, coil_indices, n, fname, timeslice=None,\n",
    "        threshold=None, freq_lims=[0.0, 200.0], save=True):\n",
    "    # plot the BES fluctuation data spectrogram for one or more channels\n",
    "    \n",
    "    if timeslice == None:\n",
    "        timeslice = [mirnov_time[0], mirnov_time[-1]]\n",
    "    idx1 = (np.abs(mirnov_time - timeslice[0])).argmin()\n",
    "    idx2 = (np.abs(mirnov_time - timeslice[1])).argmin()\n",
    "    \n",
    "    freq, times, Sxx = sig.spectrogram(mirnov_data[:,idx1:idx2], fs=mirnov_f_samp, \n",
    "                                       nperseg=(2 ** n), scaling='spectrum')\n",
    "    \n",
    "    num_channels = len(coil_indices)\n",
    "    levs = [10**i for i in range(-11,1)]\n",
    "    new_lim = len(freq)#int(14 * (2 ** (n - 7)))\n",
    "\n",
    "    figure, axes = plt.subplots(num_channels, 1, sharex=True, \n",
    "                                figsize=(15, 3 * num_channels))\n",
    "    axes[0].set_title(str(shot) + ' BES spectrograms [kHz], n=' + \n",
    "        str(int(2 ** n)), fontsize=32)\n",
    "    for i in range(num_channels):\n",
    "        ch = coil_indices[i]\n",
    "        ct = axes[i].contourf(times + mirnov_time[idx1], 0.001 * freq[:new_lim], \n",
    "            Sxx[ch][:new_lim,:], 16, cmap=plt.get_cmap('plasma'), levels=levs,\n",
    "            norm=(colors.LogNorm()))\n",
    "        axes[i].set_ylim(freq_lims)\n",
    "        axes[i].tick_params(axis='y', labelsize=22)\n",
    "        axes[i].set_ylabel(('Coil ' + str(coil_nums[ch])), fontsize=24)\n",
    "        cbar = figure.colorbar(ct, shrink=0.9, label=\"Strength [a.u.]\")\n",
    "        if threshold is not None:\n",
    "            axes[i].axvline(threshold, color='r')\n",
    "    axes[num_channels-1].tick_params(axis='x', labelsize=24)\n",
    "    axes[num_channels-1].set_xlabel('time [s]', fontsize=26)\n",
    "    axes[num_channels-1].set_xlim(timeslice)\n",
    "    plt.tight_layout()\n",
    "    plt.subplots_adjust(wspace=0, hspace=0)\n",
    "    if save == True:\n",
    "        plt.savefig('shot' + str(shot) + '_mirnov_stfft_'+ fname +'.png', format='png', transparent=False)\n",
    "    else:\n",
    "        plt.show()\n",
    "    plt.close()"
   ]
  },
  {
   "cell_type": "code",
   "execution_count": 55,
   "id": "dcc75d36",
   "metadata": {},
   "outputs": [],
   "source": [
    "for region in range(3):\n",
    "    plot_mirnov_spectrogram(29378, mirnov_time, mirnov_data, [i for i in range(1,8)], 7, \"reg_\" + str(region+1), timeslice=regions[region], save=True)"
   ]
  }
 ],
 "metadata": {
  "kernelspec": {
   "display_name": "Python 3 (ipykernel)",
   "language": "python",
   "name": "python3"
  },
  "language_info": {
   "codemirror_mode": {
    "name": "ipython",
    "version": 3
   },
   "file_extension": ".py",
   "mimetype": "text/x-python",
   "name": "python",
   "nbconvert_exporter": "python",
   "pygments_lexer": "ipython3",
   "version": "3.9.12"
  }
 },
 "nbformat": 4,
 "nbformat_minor": 5
}
