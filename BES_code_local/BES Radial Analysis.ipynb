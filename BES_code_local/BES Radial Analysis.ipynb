{
 "cells": [
  {
   "cell_type": "markdown",
   "id": "a85bc553",
   "metadata": {},
   "source": [
    "# BES Analysis in the Radial Direction\n",
    "\n",
    "Previous work has been in the vertical direction."
   ]
  },
  {
   "cell_type": "markdown",
   "id": "6fbe9f20",
   "metadata": {},
   "source": [
    "Import neccesary packages"
   ]
  },
  {
   "cell_type": "code",
   "execution_count": 1,
   "id": "7d3efd77",
   "metadata": {},
   "outputs": [],
   "source": [
    "import numpy as np\n",
    "import xarray as xr\n",
    "import matplotlib.pyplot as plt\n",
    "from plotting_functions_BES import *\n",
    "import seaborn as sns\n",
    "import pandas as pd"
   ]
  },
  {
   "cell_type": "markdown",
   "id": "8e7be6ca",
   "metadata": {},
   "source": [
    "Read BES data"
   ]
  },
  {
   "cell_type": "code",
   "execution_count": 2,
   "id": "a4e0eb03",
   "metadata": {},
   "outputs": [],
   "source": [
    "# for BES data\n",
    "# (R, z) locations for the BES channels (view location)\n",
    "apdpos = np.asarray(xr.open_dataarray('Data\\\\shot29378_apdpos.nc'))\n",
    "\n",
    "fluct_data_from_file = xr.open_dataarray('Data\\\\shot29378_LH_fluct_data.nc')\n",
    "\n",
    "bes_time = np.asarray(fluct_data_from_file.coords['time']) # bes_time[0:992499]\n",
    "fluct_data = np.asarray(fluct_data_from_file) # fluct_data[0:31][0:992499]"
   ]
  },
  {
   "cell_type": "markdown",
   "id": "08dd2598",
   "metadata": {},
   "source": [
    "Define interesting timeslices"
   ]
  },
  {
   "cell_type": "code",
   "execution_count": 3,
   "id": "8791dd9e",
   "metadata": {},
   "outputs": [],
   "source": [
    "regions = [[0.16,0.24], [0.36,0.54], [0.54,0.68]]"
   ]
  },
  {
   "cell_type": "markdown",
   "id": "4f2ff993",
   "metadata": {},
   "source": [
    "Function to compute 2D FFT of BES data using inner-most four channels of specified row."
   ]
  },
  {
   "cell_type": "code",
   "execution_count": 4,
   "id": "575e08bb",
   "metadata": {},
   "outputs": [],
   "source": [
    "def get_kf_spec_radial(row, timeslice): # Row is int from 0 to 3 . timeslice = [t1, t2], a 2x1 array\n",
    "    channels = [ch for ch in range(row*8, row*8+4)] # Get first four channels of the row\n",
    "    region = regions.index(timeslice)+1 # Get region number as referenced in project so far\n",
    "    \n",
    "    space_array = [apdpos[i][0] for i in channels] # Get R-coordinates of each channel\n",
    "    space_array = np.asarray(space_array)\n",
    "    spec = []\n",
    "    for ch in channels: # FFT each channel in time\n",
    "        fft = get_channel_fft(29378, bes_time, fluct_data, ch, timeslice, \"channel_fft\")\n",
    "        f_transform = fft[1]\n",
    "        spec.append(f_transform) # Each row of spec corresponds to a channel.\n",
    "    f_arr = fft[0] # Frequency array is the same for all of them so just save any one.\n",
    "    \n",
    "    spec = np.asarray(spec)\n",
    "    spec = np.transpose(spec) # Now each row is a time point as required by calc_kspecs\n",
    "    calc = calc_kspec(spec, space_array) # Get k-f spectrum\n",
    "    \n",
    "    kf_matrix = calc[0] # This contains the transform data\n",
    "    k_arr = calc[1] # This is the array of wavenumbers\n",
    "    \n",
    "    return f_arr, k_arr, kf_matrix"
   ]
  },
  {
   "cell_type": "markdown",
   "id": "b876f34e",
   "metadata": {},
   "source": [
    "Function for plotting the k-f spectra as a heatmap. This is same as vertical version just with labels changed from column to row."
   ]
  },
  {
   "cell_type": "code",
   "execution_count": 5,
   "id": "cd7cdf39",
   "metadata": {},
   "outputs": [],
   "source": [
    "def plot_kf_spec_radial(region, row, f_arr, k_arr, kf_matrix, fmin=0.0, fmax=None, save=True):\n",
    "    if fmax == None:\n",
    "        fmax = np.max(f_arr)\n",
    "    # Only need to plot a section of the spectrum. At least half not needed.\n",
    "    kf_matrix = kf_matrix[(np.abs(f_arr - fmin)).argmin():(np.abs(f_arr - fmax)).argmin()]\n",
    "    f_arr = f_arr[(np.abs(f_arr - fmin)).argmin():(np.abs(f_arr - fmax)).argmin()]\n",
    "    \n",
    "    # Convert to Pandas DataFrame with rounded frequencies as indices for easier of plotting.\n",
    "    kf_matrix_plot = pd.DataFrame(kf_matrix, index=np.around(f_arr,0), columns=np.around(k_arr,1))\n",
    "\n",
    "    # For only plotting tick at every 50 kHz\n",
    "    interval = int(np.abs(f_arr - 50.0).argmin())\n",
    "    \n",
    "    # Plot log of values so small enough range for features to be visible\n",
    "    sns.heatmap(np.log(np.abs(kf_matrix_plot)**2)[::-1], yticklabels=interval, cmap=\"plasma\", cbar_kws={\"label\": r\"$\\log\\vert S(f,k)\\vert^2$\"})\n",
    "    plt.title(\"Region \" + str(region) + \", t=\" + str(regions[region-1]) + \" s, Row \" + str(row) +  \", Left 4 Channels\" + \" (radial)\")\n",
    "    plt.ylabel(\"Frequency [kHz]\")\n",
    "    plt.xlabel(r\"Wavenumber [m$^{-1}$]\")\n",
    "    if save == True:\n",
    "        plt.savefig(\"Plots/Good kf_specs/Radial/\" + datestamp + \"/kf_spec_reg_\" + str(region) + \"_row_\" + str(row) + \"_l4.png\", format=\"png\", bbox_inches=\"tight\", dpi=300)\n",
    "    else:\n",
    "        plt.show()\n",
    "    plt.close()"
   ]
  },
  {
   "cell_type": "code",
   "execution_count": 6,
   "id": "d2ec103a",
   "metadata": {},
   "outputs": [
    {
     "data": {
      "text/plain": [
       "'for region in range(3):\\n    for row in range(4):\\n        tmp = get_kf_spec_radial(row,regions[region])\\n        plot_kf_spec_radial(region+1, row+1, tmp[0], tmp[1], tmp[2], fmax=250.0, save=False)'"
      ]
     },
     "execution_count": 6,
     "metadata": {},
     "output_type": "execute_result"
    }
   ],
   "source": [
    "\"\"\"for region in range(3):\n",
    "    for row in range(4):\n",
    "        tmp = get_kf_spec_radial(row,regions[region])\n",
    "        plot_kf_spec_radial(region+1, row+1, tmp[0], tmp[1], tmp[2], fmax=250.0, save=False)\"\"\""
   ]
  },
  {
   "cell_type": "markdown",
   "id": "ccc98cf6",
   "metadata": {},
   "source": [
    "Function for summing contributions for each wavenumber OR frequency to produce a spectrum of FFT against frequency OR wavenumber"
   ]
  },
  {
   "cell_type": "code",
   "execution_count": 7,
   "id": "94b9ad0a",
   "metadata": {},
   "outputs": [],
   "source": [
    "def kf_sum(kf_matrix, keep_var): # keep_var is the variable not summed over. E.g. if f it sums ks for each f.\n",
    "    if keep_var == \"k\":\n",
    "        spec = np.sum(kf_matrix, axis=0)\n",
    "    elif keep_var == \"f\":\n",
    "        spec = np.sum(kf_matrix, axis=1)\n",
    "    else:\n",
    "        raise ValueError(\"Bad argument keep_var = \" + keep_var)\n",
    "    return spec"
   ]
  },
  {
   "cell_type": "markdown",
   "id": "44a328fb",
   "metadata": {},
   "source": [
    "Function to sum points over a 1D array in a given distinct window. new_freqs is 1/window_size of freqs"
   ]
  },
  {
   "cell_type": "code",
   "execution_count": 8,
   "id": "88bf80ac",
   "metadata": {},
   "outputs": [],
   "source": [
    "def spec_box_sum(spec, freqs, window_length):\n",
    "    spec_smooth = []\n",
    "    new_freqs = []\n",
    "    window_hw = int(np.floor(window_length/2))\n",
    "\n",
    "    for i in range(int(np.ceil(window_length/2)),len(spec)-window_hw,window_length): # From first to last midpoint\n",
    "        window_sum = 0\n",
    "        for j in range(i-window_hw, i+window_hw+1): # +1 to include the end point\n",
    "            window_sum += spec[j]\n",
    "        spec_smooth.append(window_sum)\n",
    "        new_freqs.append(freqs[i])\n",
    "    return new_freqs, spec_smooth"
   ]
  },
  {
   "cell_type": "markdown",
   "id": "25213b03",
   "metadata": {},
   "source": [
    "Function to do same as spec_box_sum but for 2D array"
   ]
  },
  {
   "cell_type": "code",
   "execution_count": 9,
   "id": "f0ca881a",
   "metadata": {},
   "outputs": [],
   "source": [
    "def kf_spec_box_sum(f_arr, k_arr, kf_matrix, window_length):\n",
    "    kf_matrix = np.transpose(kf_matrix)\n",
    "    new_matrix = []\n",
    "    \n",
    "    for i in kf_matrix:\n",
    "        summed = spec_box_sum(i, f_arr, window_length)\n",
    "        new_matrix.append(summed[1])\n",
    "    return np.asarray(summed[0]), k_arr, np.transpose(np.asarray(new_matrix))"
   ]
  },
  {
   "cell_type": "markdown",
   "id": "60257398",
   "metadata": {},
   "source": [
    "Make kf spectra plots where frequencies summed over a number of points."
   ]
  },
  {
   "cell_type": "code",
   "execution_count": 10,
   "id": "e433ac21",
   "metadata": {},
   "outputs": [
    {
     "data": {
      "text/plain": [
       "'for region in range(3):\\n    for row in range(4):\\n        tmp = get_kf_spec_radial(row,regions[region])\\n        blocked = kf_spec_box_sum(tmp[0], tmp[1], tmp[2], 10)\\n        plot_kf_spec_radial(region+1, row+1, blocked[0], blocked[1], blocked[2], fmax=250, save=False)'"
      ]
     },
     "execution_count": 10,
     "metadata": {},
     "output_type": "execute_result"
    }
   ],
   "source": [
    "\"\"\"for region in range(3):\n",
    "    for row in range(4):\n",
    "        tmp = get_kf_spec_radial(row,regions[region])\n",
    "        blocked = kf_spec_box_sum(tmp[0], tmp[1], tmp[2], 10)\n",
    "        plot_kf_spec_radial(region+1, row+1, blocked[0], blocked[1], blocked[2], fmax=250, save=False)\"\"\""
   ]
  },
  {
   "cell_type": "markdown",
   "id": "5a16e1ea",
   "metadata": {},
   "source": [
    "Function to convert $S(f,k) \\to S(k|f)$"
   ]
  },
  {
   "cell_type": "code",
   "execution_count": 11,
   "id": "603f1ab8",
   "metadata": {},
   "outputs": [],
   "source": [
    "def normalise_kf(f_arr, kf_matrix, fmin=0.0, fmax=None):\n",
    "    if fmax == None:\n",
    "        fmax = np.max(f_arr)\n",
    "\n",
    "    kf_matrix = kf_matrix[(np.abs(f_arr - fmin)).argmin():(np.abs(f_arr - fmax)).argmin()]\n",
    "    f_arr = f_arr[(np.abs(f_arr - fmin)).argmin():(np.abs(f_arr - fmax)).argmin()]\n",
    "    spec = np.transpose(kf_matrix)/np.sum(kf_matrix,axis=1)\n",
    "\n",
    "    return f_arr, np.transpose(spec)"
   ]
  },
  {
   "cell_type": "code",
   "execution_count": 12,
   "id": "ae8df398",
   "metadata": {},
   "outputs": [],
   "source": [
    "def plot_kf_spec_rad_cond(region, col, f_arr, k_arr, kf_matrix, fmin=0.0, fmax=None, save=True):\n",
    "    if fmax == None:\n",
    "        fmax = np.max(f_arr)\n",
    "    # Only need to plot a section of the spectrum. At least half not needed.\n",
    "    kf_matrix = kf_matrix[(np.abs(f_arr - fmin)).argmin():(np.abs(f_arr - fmax)).argmin()]\n",
    "    f_arr = f_arr[(np.abs(f_arr - fmin)).argmin():(np.abs(f_arr - fmax)).argmin()]\n",
    "    \n",
    "    # Convert to array with rounded frequencies for easier of plotting.\n",
    "    kf_matrix_plot = pd.DataFrame(kf_matrix, index=np.around(f_arr,0), columns=np.around(k_arr,1))\n",
    "    \n",
    "    # For only plotting tick at every 50 kHz\n",
    "    interval = int(np.abs(f_arr - 50.0).argmin())\n",
    "\n",
    "    # Plot log of values so small enough range for features to be visible\n",
    "    sns.heatmap(np.log(np.abs(kf_matrix_plot)**2)[::-1], yticklabels=interval, cmap=\"plasma\", cbar_kws={\"label\": r\"$\\log\\vert S(k|f)\\vert^2$\"})\n",
    "    plt.title(\"Region \" + str(region) + \", t=\" + str(regions[region-1]) + \" s, Column \" + str(col) + \" (radial)\")\n",
    "    plt.ylabel(\"Frequency [kHz]\")\n",
    "    plt.xlabel(r\"Wavenumber [m$^{-1}$]\")\n",
    "    if save == True:\n",
    "        plt.savefig(\"Plots/kf-conditional/Radial/\" +  datestamp() + \"/kf_cond_rad_spec_reg_\" + str(region) + \"_col_\" + str(col) + \".png\", format=\"png\", bbox_inches=\"tight\", dpi=300)\n",
    "    else:\n",
    "        plt.show()\n",
    "    plt.close()"
   ]
  },
  {
   "cell_type": "markdown",
   "id": "23a8fe0c",
   "metadata": {},
   "source": [
    "Produce plots of $S(k|f)$"
   ]
  },
  {
   "cell_type": "code",
   "execution_count": 14,
   "id": "bf01cbf9",
   "metadata": {},
   "outputs": [],
   "source": [
    "for region in range(3):\n",
    "    for row in range(4):\n",
    "        tmp = get_kf_spec_radial(row,regions[region])\n",
    "        spec = normalise_kf(tmp[0], tmp[2], fmax=250.0)\n",
    "        blocked = kf_spec_box_sum(spec[0], tmp[1], spec[1], 10)\n",
    "        plot_kf_spec_rad_cond(region+1, row+1, blocked[0], blocked[1], blocked[2], fmax=250, save=True)"
   ]
  }
 ],
 "metadata": {
  "kernelspec": {
   "display_name": "Python 3 (ipykernel)",
   "language": "python",
   "name": "python3"
  },
  "language_info": {
   "codemirror_mode": {
    "name": "ipython",
    "version": 3
   },
   "file_extension": ".py",
   "mimetype": "text/x-python",
   "name": "python",
   "nbconvert_exporter": "python",
   "pygments_lexer": "ipython3",
   "version": "3.9.12"
  }
 },
 "nbformat": 4,
 "nbformat_minor": 5
}
