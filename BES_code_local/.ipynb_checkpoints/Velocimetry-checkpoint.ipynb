{
 "cells": [
  {
   "cell_type": "markdown",
   "id": "d0a263f6",
   "metadata": {},
   "source": [
    "# Figuring out velocimetry functions"
   ]
  },
  {
   "cell_type": "code",
   "execution_count": 2,
   "id": "93b030cb",
   "metadata": {},
   "outputs": [],
   "source": [
    "import numpy as np\n",
    "import xarray as xr\n",
    "import matplotlib.pyplot as plt\n",
    "from plotting_functions_BES_velocimetry_results import *"
   ]
  }
 ],
 "metadata": {
  "kernelspec": {
   "display_name": "Python 3 (ipykernel)",
   "language": "python",
   "name": "python3"
  },
  "language_info": {
   "codemirror_mode": {
    "name": "ipython",
    "version": 3
   },
   "file_extension": ".py",
   "mimetype": "text/x-python",
   "name": "python",
   "nbconvert_exporter": "python",
   "pygments_lexer": "ipython3",
   "version": "3.9.12"
  }
 },
 "nbformat": 4,
 "nbformat_minor": 5
}
